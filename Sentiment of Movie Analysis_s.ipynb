from google.colab import drive
drive.mount('/content/drive')



importing dataset and packages

import pandas as pd
import re
import nltk
import seaborn as sns
from nltk.corpus import stopwords
from nltk.stem.porter import PorterStemmer
from nltk.stem import WordNetLemmatizer
from sklearn.feature_extraction.text import CountVectorizer
from sklearn.naive_bayes import MultinomialNB
from sklearn.model_selection import train_test_split
from sklearn.ensemble import RandomForestClassifier
from sklearn.svm import SVC
from sklearn.metrics import accuracy_score,classification_report as cr



pip install yellowbrick



#data = pd.read_csv('/content/drive/MyDrive/movie/train.csv')
#test_data=pd.read_csv('/content/drive/MyDrive/movie/test.csv')
data = pd.read_csv('/content/drive/MyDrive/IMDB Dataset.csv')

data.head(15)



data['sentiment'].value_counts()['negative']



data['sentiment'].value_counts()['positive']



data['review'].loc[345]


Pre_Processing
sns.countplot(x=data['sentiment'])



nltk.download('stopwords')



ps = PorterStemmer()



corpus = []
for i in range(0,len(data)):
    review = re.sub('[^a-zA-Z]',' ',data['review'][i])
    review = review.lower()
    review = review.split()
    review = [ps.stem(word) for word in review if not word in stopwords.words('english')]
    review = ' '.join(review)
    corpus.append(review)





lemmatizer=WordNetLemmatizer()




import nltk
nltk.download('all')




corpus = []
for i in range(0, len(data)):
    review = re.sub('[^a-zA-Z]', ' ', data['review'][i])
    review = review.lower()
    review = review.split()

    review = [lemmatizer.lemmatize(word) for word in review if not word in stopwords.words('english')]
    review = ' '.join(review)
    corpus.append(review)






from sklearn.feature_extraction.text import TfidfVectorizer
tv = TfidfVectorizer(max_features=5000)
X = tv.fit_transform(corpus).toarray()




y = pd.get_dummies(data['sentiment'])
y = y.iloc[:,1].values




train_test_split
from sklearn.model_selection import train_test_split
X_train, X_test, y_train, y_test = train_test_split(X, y, test_size = 0.30, random_state = 0)



Naive Bayas
text_analysis_model2 = MultinomialNB().fit(X_train,y_train)



y_predtf = text_analysis_model2.predict(X_test)



score=accuracy_score(y_test,y_predtf)
print(score)
print(cr(y_test,y_predtf))



import matplotlib.pyplot as plt
from sklearn.metrics import confusion_matrix
conf_mat = confusion_matrix(y_test,y_predtf)
fig, ax = plt.subplots(figsize=(5,5))
sns.heatmap(conf_mat, annot=True, fmt='d', cmap="cividis")
plt.ylabel('Actual')
plt.xlabel('Predicted')
plt.show()




from yellowbrick.classifier import ROCAUC
visualizer = ROCAUC(text_analysis_model2, classes=["Positive", "Negative"])

visualizer.fit(X_train, y_train)        # Fit the training data to the visualizer
visualizer.score(X_test, y_test)        # Evaluate the model on the test data
visualizer.show()





RandomForestClassifier
classifer2 = RandomForestClassifier().fit(X_train,y_train)



classifer_predict = classifer2.predict(X_test)



score=accuracy_score(y_test,classifer_predict)
print(score)
print(cr(y_test,classifer_predict))



conf_mat = confusion_matrix(y_test,classifer_predict)
fig, ax = plt.subplots(figsize=(5,5))
sns.heatmap(conf_mat, annot=True, fmt='d', cmap="cividis")
plt.ylabel('Actual')
plt.xlabel('Predicted')
plt.show()



from yellowbrick.classifier import ROCAUC
visualizer = ROCAUC(classifer2, classes=["Positive", "Negative"])

visualizer.fit(X_train, y_train)        # Fit the training data to the visualizer
visualizer.score(X_test, y_test)        # Evaluate the model on the test data
visualizer.show()



Log_Regression
from sklearn.linear_model import LogisticRegression
lr = LogisticRegression().fit(X_train,y_train)
p1=lr.predict(X_test)
score=accuracy_score(y_test,p1)
print(score)
print(cr(y_test,p1))





conf_mat = confusion_matrix(y_test,p1)
fig, ax = plt.subplots(figsize=(5,5))
sns.heatmap(conf_mat, annot=True, fmt='d', cmap="cividis")
plt.ylabel('Actual')
plt.xlabel('Predicted')
plt.show()






from yellowbrick.classifier import ROCAUC
visualizer = ROCAUC(lr, classes=["Positive", "Negative"])

visualizer.fit(X_train, y_train)        # Fit the training data to the visualizer
visualizer.score(X_test, y_test)        # Evaluate the model on the test data
visualizer.show()





LinearSVC
from sklearn.svm import LinearSVC
svc= LinearSVC().fit(X_train,y_train)
p2=svc.predict(X_test)
score=accuracy_score(y_test,p2)
print(score)
print(cr(y_test,p2))





conf_mat = confusion_matrix(y_test,p2)
fig, ax = plt.subplots(figsize=(5,5))
sns.heatmap(conf_mat, annot=True, fmt='d', cmap="cividis")
plt.ylabel('Actual')
plt.xlabel('Predicted')
plt.show()





from yellowbrick.classifier import ROCAUC
visualizer = ROCAUC(svc, classes=["Positive", "Negative"],micro=False, macro=False, per_class=False)

visualizer.fit(X_train, y_train)        # Fit the training data to the visualizer
visualizer.score(X_test, y_test)        # Evaluate the model on the test data
visualizer.show()







XGBoost
from xgboost.sklearn import XGBClassifier
xg_boost= XGBClassifier().fit(X_train,y_train)
p3=xg_boost.predict(X_test)
score=accuracy_score(y_test,p3)
print(score)
print(cr(y_test,p3))





conf_mat = confusion_matrix(y_test,p3)
fig, ax = plt.subplots(figsize=(5,5))
sns.heatmap(conf_mat, annot=True, fmt='d', cmap="cividis")
plt.ylabel('Actual')
plt.xlabel('Predicted')
plt.show()




from yellowbrick.classifier import ROCAUC
visualizer = ROCAUC(xg_boost, classes=["Positive", "Negative"])

visualizer.fit(X_train, y_train)        # Fit the training data to the visualizer
visualizer.score(X_test, y_test)        # Evaluate the model on the test data
visualizer.show()





